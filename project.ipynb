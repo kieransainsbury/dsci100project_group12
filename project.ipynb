{
 "cells": [
  {
   "cell_type": "markdown",
   "id": "e145df6d-7980-4f42-8442-5f88ef579819",
   "metadata": {},
   "source": [
    "# DSCI 100\n",
    "**Group Project**\n",
    "\n",
    "*Kieran, John, Derek, William*"
   ]
  },
  {
   "cell_type": "markdown",
   "id": "f7c8cfb8-769c-49fb-8db5-f16384d4b77c",
   "metadata": {},
   "source": [
    "**Introduction**\n",
    "\n",
    "This Data Science analysis regards the PlaiCraft Minecraft server.  This server is ran by Data Science analysts at UBC, in which different variables within the server regarding both *players* and *sessions* are measured."
   ]
  },
  {
   "cell_type": "code",
   "execution_count": null,
   "id": "63f85226-8ee4-4ac2-97af-04cd17a22824",
   "metadata": {},
   "outputs": [],
   "source": []
  },
  {
   "cell_type": "code",
   "execution_count": 1,
   "id": "a9b46f63-2ce0-4e5a-889e-bffed5b6bf8f",
   "metadata": {},
   "outputs": [
    {
     "ename": "ERROR",
     "evalue": "Error in eval(expr, envir, enclos): object 'asdfsd' not found\n",
     "output_type": "error",
     "traceback": [
      "Error in eval(expr, envir, enclos): object 'asdfsd' not found\nTraceback:\n"
     ]
    }
   ],
   "source": [
    "asdfsd\n"
   ]
  },
  {
   "cell_type": "code",
   "execution_count": null,
   "id": "40f72709-c70e-4911-811a-bb1b1716c659",
   "metadata": {},
   "outputs": [],
   "source": []
  }
 ],
 "metadata": {
  "kernelspec": {
   "display_name": "R",
   "language": "R",
   "name": "ir"
  },
  "language_info": {
   "codemirror_mode": "r",
   "file_extension": ".r",
   "mimetype": "text/x-r-source",
   "name": "R",
   "pygments_lexer": "r",
   "version": "4.3.3"
  }
 },
 "nbformat": 4,
 "nbformat_minor": 5
}
