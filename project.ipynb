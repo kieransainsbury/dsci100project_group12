{
 "cells": [
  {
   "cell_type": "markdown",
   "id": "e145df6d-7980-4f42-8442-5f88ef579819",
   "metadata": {},
   "source": [
    "# DSCI 100\n",
    "**Group Project**\n",
    "\n",
    "*Kieran, John, Derek, William*"
   ]
  },
  {
   "cell_type": "code",
   "execution_count": null,
   "id": "01ec2e67-6995-424d-948c-47637e5f8bf7",
   "metadata": {},
   "outputs": [],
   "source": []
  }
 ],
 "metadata": {
  "kernelspec": {
   "display_name": "R",
   "language": "R",
   "name": "ir"
  },
  "language_info": {
   "codemirror_mode": "r",
   "file_extension": ".r",
   "mimetype": "text/x-r-source",
   "name": "R",
   "pygments_lexer": "r",
   "version": "4.3.3"
  }
 },
 "nbformat": 4,
 "nbformat_minor": 5
}
